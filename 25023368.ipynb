{
 "cells": [
  {
   "cell_type": "code",
   "execution_count": 2,
   "id": "e1cea038-779f-439a-ac7a-a7a2f239501a",
   "metadata": {},
   "outputs": [
    {
     "name": "stdin",
     "output_type": "stream",
     "text": [
      "Enter a number:  jhl\n"
     ]
    },
    {
     "name": "stdout",
     "output_type": "stream",
     "text": [
      "Invalid\n"
     ]
    },
    {
     "name": "stdin",
     "output_type": "stream",
     "text": [
      "Enter a number:  99999\n"
     ]
    },
    {
     "name": "stdout",
     "output_type": "stream",
     "text": [
      "Invalid\n"
     ]
    },
    {
     "name": "stdin",
     "output_type": "stream",
     "text": [
      "Enter a number:  50\n"
     ]
    },
    {
     "name": "stdout",
     "output_type": "stream",
     "text": [
      "1275\n"
     ]
    }
   ],
   "source": [
    "def sumNumbers():\n",
    "    while True:\n",
    "        try:\n",
    "            n = int(input(\"Enter a number: \"))\n",
    "            if n > 1000:\n",
    "                raise ValueError\n",
    "            break\n",
    "        except:\n",
    "            print(\"Invalid\")\n",
    "            \n",
    "    sum = 0\n",
    "    for i in range(1, n+1):\n",
    "        sum += i\n",
    "    print(sum)\n",
    "\n",
    "sumNumbList()\n",
    "\n",
    "\n"
   ]
  },
  {
   "cell_type": "code",
   "execution_count": 3,
   "id": "57b4ac13-e71f-49d2-a9ce-3658be030e9e",
   "metadata": {},
   "outputs": [
    {
     "name": "stdin",
     "output_type": "stream",
     "text": [
      "Enter a number:  eafsdf\n"
     ]
    },
    {
     "name": "stdout",
     "output_type": "stream",
     "text": [
      "Invalid\n"
     ]
    },
    {
     "name": "stdin",
     "output_type": "stream",
     "text": [
      "Enter a number:  -2\n"
     ]
    },
    {
     "name": "stdout",
     "output_type": "stream",
     "text": [
      "Invalid\n"
     ]
    },
    {
     "name": "stdin",
     "output_type": "stream",
     "text": [
      "Enter a number:  7\n"
     ]
    },
    {
     "name": "stdout",
     "output_type": "stream",
     "text": [
      "La so nguyen to\n"
     ]
    }
   ],
   "source": [
    "import math\n",
    "\n",
    "def checkPrimeNumber():\n",
    "    while True:\n",
    "        try:\n",
    "            n = int(input(\"Enter a number: \"))\n",
    "            if n < 0:\n",
    "                raise ValueError\n",
    "            break\n",
    "        except:\n",
    "            print(\"Invalid\")\n",
    "    \n",
    "    check = True\n",
    "    \n",
    "    for i in range (2, int(math.sqrt(n))):\n",
    "        if n % i == 0:\n",
    "            check = False\n",
    "    \n",
    "    \n",
    "    if check == True:\n",
    "        return \"Prime\"\n",
    "    else:\n",
    "        return \"Not Prime\"\n",
    "\n",
    "print(checkPrimeNumber())"
   ]
  },
  {
   "cell_type": "code",
   "execution_count": 1,
   "id": "4df86edc-be2b-4301-9d13-b4309154c655",
   "metadata": {},
   "outputs": [
    {
     "name": "stdin",
     "output_type": "stream",
     "text": [
      "Enter a number:  fdaf\n"
     ]
    },
    {
     "name": "stdout",
     "output_type": "stream",
     "text": [
      "Your number must be between 0 and 100\n"
     ]
    },
    {
     "name": "stdin",
     "output_type": "stream",
     "text": [
      "Enter a number:  4\n"
     ]
    },
    {
     "name": "stdout",
     "output_type": "stream",
     "text": [
      "24\n"
     ]
    }
   ],
   "source": [
    "def factorial():\n",
    "    while True:\n",
    "        try:\n",
    "            n = int(input(\"Enter a number: \"))\n",
    "            if n < 0 or n > 100:\n",
    "                raise ValueError\n",
    "            break\n",
    "        except:\n",
    "            print(\"Your number must be between 0 and 100\")\n",
    "    \n",
    "    result = 1\n",
    "    for i in range (1, n+1):\n",
    "        result *= i\n",
    "    print(result)\n",
    "\n",
    "factorial()\n",
    "    \n",
    "    "
   ]
  },
  {
   "cell_type": "code",
   "execution_count": 11,
   "id": "1299a29c-bc4e-4438-93c4-4c066a426233",
   "metadata": {},
   "outputs": [
    {
     "name": "stdin",
     "output_type": "stream",
     "text": [
      "Enter a number:  100\n"
     ]
    },
    {
     "name": "stdout",
     "output_type": "stream",
     "text": [
      "3\n"
     ]
    }
   ],
   "source": [
    "def countDigits()\n",
    "\n",
    "    n = int(input(\"Enter a number: \"))\n",
    "    n = -n if n < 0\n",
    "    \n",
    "    count = 0\n",
    "    while n > 0:\n",
    "        n = n // 10\n",
    "        count += 1\n",
    "    \n",
    "    print(count)\n",
    "    "
   ]
  },
  {
   "cell_type": "code",
   "execution_count": 5,
   "id": "1571a818-8ebd-4f5d-b663-ca51c7bfe037",
   "metadata": {},
   "outputs": [
    {
     "name": "stdin",
     "output_type": "stream",
     "text": [
      "How many numbers:  dfa\n"
     ]
    },
    {
     "name": "stdout",
     "output_type": "stream",
     "text": [
      "Invalid\n"
     ]
    },
    {
     "name": "stdin",
     "output_type": "stream",
     "text": [
      "How many numbers:  -1\n"
     ]
    },
    {
     "name": "stdout",
     "output_type": "stream",
     "text": [
      "Invalid\n"
     ]
    },
    {
     "name": "stdin",
     "output_type": "stream",
     "text": [
      "How many numbers:  2\n",
      " 3\n",
      " 4\n"
     ]
    },
    {
     "name": "stdout",
     "output_type": "stream",
     "text": [
      "It's a joke\n"
     ]
    }
   ],
   "source": [
    "def meaningOfLife():\n",
    "    while True:\n",
    "        try:\n",
    "            n = int(input(\"How many numbers: \"))\n",
    "            if n <= 0:\n",
    "                raise ValueError \n",
    "            break\n",
    "        except:\n",
    "            print(\"Invalid\")\n",
    "        \n",
    "    \n",
    "    numbList = []\n",
    "    \n",
    "    for i in range(n):\n",
    "        numbList.append(int(input()))\n",
    "    \n",
    "    \n",
    "    check = False\n",
    "    \n",
    "    for i in range(n):\n",
    "        if numbList[i] == 42:\n",
    "            check = True\n",
    "    \n",
    "    if check == False:\n",
    "        print(\"It's a joke\")\n",
    "    else:\n",
    "        print(\"Found the meaning of life\")\n",
    "\n",
    "meaningOfLife()"
   ]
  },
  {
   "cell_type": "code",
   "execution_count": 28,
   "id": "b688d016-33de-4a65-9f60-ed43ba6e1d8b",
   "metadata": {},
   "outputs": [
    {
     "name": "stdin",
     "output_type": "stream",
     "text": [
      "Enter a, b:  3, 5\n"
     ]
    },
    {
     "name": "stdout",
     "output_type": "stream",
     "text": [
      "4, 2\n",
      "5, 2\n",
      "8\n"
     ]
    }
   ],
   "source": [
    "import math\n",
    "\n",
    "def sumPrimesInRange():\n",
    "    while True:\n",
    "        try:\n",
    "            a, b = map(int, input(\"Enter a, b: \").split(\", \"))\n",
    "            if (a > b):\n",
    "                raise ValueError(\"a must be smaller than b\")\n",
    "    \n",
    "            if a < 0 or b < 0 :\n",
    "                raise ValueError(\"Must be positive numbers\")\n",
    "            break\n",
    "        except ValueError as e:\n",
    "            print(\"Invalid:\", e)\n",
    "        except Exception as e:\n",
    "            print(e)\n",
    "\n",
    "\n",
    "            \n",
    "    total = 0\n",
    "    for i in range(a, b+1):\n",
    "        isPrime = True\n",
    "        for s in range(2, int(math.sqrt(i)) + 1):\n",
    "            print(f\"{i}, {s}\")\n",
    "            if i % s == 0:\n",
    "                isPrime = False\n",
    "                break\n",
    "        if isPrime == True:\n",
    "            total += i\n",
    "    print(total)\n",
    "\n",
    "sumPrimesInRange()\n",
    "\n",
    "        \n",
    "\n",
    "\n",
    "        \n"
   ]
  },
  {
   "cell_type": "code",
   "execution_count": 9,
   "id": "4c730dee-476a-4c36-adf4-b8a5906f0680",
   "metadata": {},
   "outputs": [
    {
     "name": "stdin",
     "output_type": "stream",
     "text": [
      "Enter a number >= 2:  23\n"
     ]
    },
    {
     "data": {
      "text/plain": [
       "23"
      ]
     },
     "execution_count": 9,
     "metadata": {},
     "output_type": "execute_result"
    }
   ],
   "source": [
    "def largestPrimeFactor():\n",
    "    while True:\n",
    "            try:\n",
    "                a = int(input(\"Enter a number >= 2: \"))\n",
    "                if (a < 2):\n",
    "                    raise ValueError(\"Your number must be >= 2\")\n",
    "                break\n",
    "            except ValueError as e:\n",
    "                print(\"Invalid:\", e)\n",
    "            except Exception as e:\n",
    "                print(e)\n",
    "    result = 0\n",
    "    factors = []\n",
    "    \n",
    "    for i in range(2, a+1):\n",
    "        if checkPrime(factors, i) == False:\n",
    "            continue \n",
    "        if a % i == 0 and i > result:\n",
    "            factors.append(i)\n",
    "            result = i\n",
    "    \n",
    "    return result\n",
    "\n",
    "\n",
    "\n",
    "def checkPrime(factors, i):\n",
    "    for x in factors:\n",
    "        if i % x == 0:\n",
    "            return False\n",
    "    return True\n",
    "\n",
    "\n",
    "\n",
    "largestPrimeFactor()\n",
    "        \n",
    "\n",
    "            "
   ]
  },
  {
   "cell_type": "code",
   "execution_count": null,
   "id": "a3f33228-782d-45aa-854d-f4575860bcea",
   "metadata": {},
   "outputs": [],
   "source": [
    "n = int(input(\"Enter a number: \"))\n",
    "\n",
    "numbList = [i for i in range (1, n+1)]\n",
    "\n",
    "def lenCollatz(n):\n",
    "    step = 0 \n",
    "    if n % 2 == 0:\n",
    "        "
   ]
  }
 ],
 "metadata": {
  "kernelspec": {
   "display_name": "Python 3 (ipykernel)",
   "language": "python",
   "name": "python3"
  },
  "language_info": {
   "codemirror_mode": {
    "name": "ipython",
    "version": 3
   },
   "file_extension": ".py",
   "mimetype": "text/x-python",
   "name": "python",
   "nbconvert_exporter": "python",
   "pygments_lexer": "ipython3",
   "version": "3.13.5"
  }
 },
 "nbformat": 4,
 "nbformat_minor": 5
}
